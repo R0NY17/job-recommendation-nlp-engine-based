{
 "cells": [
  {
   "cell_type": "code",
   "execution_count": 1,
   "id": "6a2b0ccf-040d-4d0a-8d21-0f95d587d903",
   "metadata": {},
   "outputs": [],
   "source": [
    "import sys\n",
    "import os\n",
    "\n",
    "sys.path.append(os.path.abspath(\"../\"))\n",
    "sys.path.append(os.path.abspath(\"../src\"))\n",
    "\n",
    "from extraction.pdf_parser import extract_text_from_pdf, save_extracted_text\n",
    "from extraction.rule_based_parser import parse_resume\n",
    "from matching.tfidf_matcher import load_job_descriptions, match_resume_to_jobs\n",
    "from matching.semantic_matcher import match_resume_to_jobs_semantic"
   ]
  },
  {
   "cell_type": "code",
   "execution_count": 2,
   "id": "157bd56f-a948-4fdc-9626-19f6075012dd",
   "metadata": {},
   "outputs": [],
   "source": [
    "pdf_file = \"../data/resumes/sample_resume.pdf\"\n",
    "output_txt = \"../data/resumes/sample_resume.txt\""
   ]
  },
  {
   "cell_type": "code",
   "execution_count": 3,
   "id": "97eb7093-f948-4405-be22-b29c54722d36",
   "metadata": {},
   "outputs": [
    {
     "name": "stderr",
     "output_type": "stream",
     "text": [
      "CropBox missing from /Page, defaulting to MediaBox\n",
      "CropBox missing from /Page, defaulting to MediaBox\n",
      "CropBox missing from /Page, defaulting to MediaBox\n",
      "CropBox missing from /Page, defaulting to MediaBox\n"
     ]
    },
    {
     "name": "stdout",
     "output_type": "stream",
     "text": [
      "John Doe\n",
      "1234 Main Street, San Francisco, CA 94101\n",
      "john.doe@email.com | +1 (555) 123-4567\n",
      "LinkedIn: linkedin.com/in/johndoe | GitHub: github.com/johndoe\n",
      "Professional Summary\n",
      "Data-driven and results-oriented Data Analyst with 3+ years of experience in interpreting and analyzing data to drive\n",
      "successful business solutions. Proficient in Python, SQL, and Tableau. Strong background in statistics and data\n",
      "visualization.\n",
      "Skills\n",
      "Programming: Python, R, SQL, Java\n",
      "Data Analysis: Pandas, NumPy, Matplotlib, Seaborn\n",
      "Machine Learning: Scikit-learn, XGBoost\n",
      "Visualization: Tableau, Power BI, Matplotlib\n",
      "Tools: Git, Jupyter, Excel, Google Sheets\n",
      "Languages: English (Fluent), Spanish (Intermediate)\n",
      "Professional Experience\n",
      "Data Analyst\n",
      "ABC Tech Solutions, New \n"
     ]
    }
   ],
   "source": [
    "text = extract_text_from_pdf(pdf_file)\n",
    "print(text[:750])"
   ]
  },
  {
   "cell_type": "code",
   "execution_count": 4,
   "id": "6ed4c912-522e-4b3c-90fb-e960cb24f332",
   "metadata": {},
   "outputs": [],
   "source": [
    "save_extracted_text(text, output_txt)"
   ]
  },
  {
   "cell_type": "code",
   "execution_count": 5,
   "id": "8a15e12a-9a96-4afa-bd63-fccac4388037",
   "metadata": {},
   "outputs": [
    {
     "name": "stdout",
     "output_type": "stream",
     "text": [
      "Parsed Resume Info:\n",
      "\n",
      "{'skills': ['numpy', 'excel', 'pandas', 'python', 'sql', 'data analysis', 'machine learning', 'java'], 'education': ['master', 'bachelor'], 'experience': ['data analyst', 'data analyst', 'data analyst', 'data analyst']}\n"
     ]
    }
   ],
   "source": [
    "parsed = parse_resume(text)\n",
    "print(\"Parsed Resume Info:\\n\")\n",
    "print(parsed)"
   ]
  },
  {
   "cell_type": "code",
   "execution_count": 6,
   "id": "824ec338-404d-4216-a1c7-35ec046ea165",
   "metadata": {},
   "outputs": [
    {
     "name": "stdout",
     "output_type": "stream",
     "text": [
      "Top job matches for this resume(TF-IDF):\n",
      "\n",
      "- Data Analyst (Score: 0.12)\n",
      "- Machine Learning Engineer (Score: 0.06)\n",
      "- Software Developer (Score: 0.02)\n"
     ]
    }
   ],
   "source": [
    "jobs = load_job_descriptions(\"../data/jobs/job_descriptions.json\")\n",
    "matches = match_resume_to_jobs(parsed, jobs)\n",
    "\n",
    "print(\"Top job matches for this resume(TF-IDF):\\n\")\n",
    "for match in matches:\n",
    "    print(f\"- {match['title']} (Score: {match['similarity']})\")"
   ]
  },
  {
   "cell_type": "code",
   "execution_count": 7,
   "id": "a6aa954c-040b-49be-b1ed-f03e4bf16813",
   "metadata": {},
   "outputs": [
    {
     "name": "stdout",
     "output_type": "stream",
     "text": [
      "Top job matches (Semantic BERT):\n",
      "\n",
      "- Data Analyst (Score: 0.47)\n",
      "- Machine Learning Engineer (Score: 0.36)\n",
      "- Software Developer (Score: 0.18)\n"
     ]
    }
   ],
   "source": [
    "semantic_matches = match_resume_to_jobs_semantic(parsed, jobs)\n",
    "\n",
    "# Display results\n",
    "print(\"Top job matches (Semantic BERT):\\n\")\n",
    "for match in semantic_matches:\n",
    "    print(f\"- {match['title']} (Score: {match['similarity']})\")"
   ]
  },
  {
   "cell_type": "code",
   "execution_count": null,
   "id": "77c4f1ee-6b3e-4fc1-b315-d4a986c066ea",
   "metadata": {},
   "outputs": [],
   "source": []
  }
 ],
 "metadata": {
  "kernelspec": {
   "display_name": "Python 3 (ipykernel)",
   "language": "python",
   "name": "python3"
  },
  "language_info": {
   "codemirror_mode": {
    "name": "ipython",
    "version": 3
   },
   "file_extension": ".py",
   "mimetype": "text/x-python",
   "name": "python",
   "nbconvert_exporter": "python",
   "pygments_lexer": "ipython3",
   "version": "3.12.10"
  }
 },
 "nbformat": 4,
 "nbformat_minor": 5
}
